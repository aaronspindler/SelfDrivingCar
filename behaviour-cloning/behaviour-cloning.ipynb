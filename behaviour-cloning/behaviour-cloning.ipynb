{
 "cells": [
  {
   "cell_type": "code",
   "execution_count": 5,
   "metadata": {},
   "outputs": [],
   "source": [
    "import numpy as np\n",
    "import matplotlib.pyplot as plt\n",
    "import keras\n",
    "from keras.models import Sequential\n",
    "from keras.optimizers import Adam\n",
    "from keras.layers import Conv2D, MaxPooling2D, Dropout, Flatten, Dense\n",
    "import cv2\n",
    "import pandas as pd\n",
    "import ntpath\n",
    "import random"
   ]
  },
  {
   "cell_type": "code",
   "execution_count": 6,
   "metadata": {},
   "outputs": [
    {
     "data": {
      "text/html": [
       "<div>\n",
       "<style scoped>\n",
       "    .dataframe tbody tr th:only-of-type {\n",
       "        vertical-align: middle;\n",
       "    }\n",
       "\n",
       "    .dataframe tbody tr th {\n",
       "        vertical-align: top;\n",
       "    }\n",
       "\n",
       "    .dataframe thead th {\n",
       "        text-align: right;\n",
       "    }\n",
       "</style>\n",
       "<table border=\"1\" class=\"dataframe\">\n",
       "  <thead>\n",
       "    <tr style=\"text-align: right;\">\n",
       "      <th></th>\n",
       "      <th>center</th>\n",
       "      <th>left</th>\n",
       "      <th>right</th>\n",
       "      <th>steering</th>\n",
       "      <th>throttle</th>\n",
       "      <th>reverse</th>\n",
       "      <th>speed</th>\n",
       "    </tr>\n",
       "  </thead>\n",
       "  <tbody>\n",
       "    <tr>\n",
       "      <td>0</td>\n",
       "      <td>/Users/aaronspindler/Desktop/SelfDrivingCar/behaviour-cloning/data/IMG/center_2020_03_12_22_04_28_248.jpg</td>\n",
       "      <td>/Users/aaronspindler/Desktop/SelfDrivingCar/behaviour-cloning/data/IMG/left_2020_03_12_22_04_28_248.jpg</td>\n",
       "      <td>/Users/aaronspindler/Desktop/SelfDrivingCar/behaviour-cloning/data/IMG/right_2020_03_12_22_04_28_248.jpg</td>\n",
       "      <td>0.0</td>\n",
       "      <td>0.0</td>\n",
       "      <td>0.0</td>\n",
       "      <td>0.000078</td>\n",
       "    </tr>\n",
       "    <tr>\n",
       "      <td>1</td>\n",
       "      <td>/Users/aaronspindler/Desktop/SelfDrivingCar/behaviour-cloning/data/IMG/center_2020_03_12_22_04_28_351.jpg</td>\n",
       "      <td>/Users/aaronspindler/Desktop/SelfDrivingCar/behaviour-cloning/data/IMG/left_2020_03_12_22_04_28_351.jpg</td>\n",
       "      <td>/Users/aaronspindler/Desktop/SelfDrivingCar/behaviour-cloning/data/IMG/right_2020_03_12_22_04_28_351.jpg</td>\n",
       "      <td>0.0</td>\n",
       "      <td>0.0</td>\n",
       "      <td>0.0</td>\n",
       "      <td>0.000080</td>\n",
       "    </tr>\n",
       "    <tr>\n",
       "      <td>2</td>\n",
       "      <td>/Users/aaronspindler/Desktop/SelfDrivingCar/behaviour-cloning/data/IMG/center_2020_03_12_22_04_28_461.jpg</td>\n",
       "      <td>/Users/aaronspindler/Desktop/SelfDrivingCar/behaviour-cloning/data/IMG/left_2020_03_12_22_04_28_461.jpg</td>\n",
       "      <td>/Users/aaronspindler/Desktop/SelfDrivingCar/behaviour-cloning/data/IMG/right_2020_03_12_22_04_28_461.jpg</td>\n",
       "      <td>0.0</td>\n",
       "      <td>0.0</td>\n",
       "      <td>0.0</td>\n",
       "      <td>0.000078</td>\n",
       "    </tr>\n",
       "    <tr>\n",
       "      <td>3</td>\n",
       "      <td>/Users/aaronspindler/Desktop/SelfDrivingCar/behaviour-cloning/data/IMG/center_2020_03_12_22_04_28_564.jpg</td>\n",
       "      <td>/Users/aaronspindler/Desktop/SelfDrivingCar/behaviour-cloning/data/IMG/left_2020_03_12_22_04_28_564.jpg</td>\n",
       "      <td>/Users/aaronspindler/Desktop/SelfDrivingCar/behaviour-cloning/data/IMG/right_2020_03_12_22_04_28_564.jpg</td>\n",
       "      <td>0.0</td>\n",
       "      <td>0.0</td>\n",
       "      <td>0.0</td>\n",
       "      <td>0.000078</td>\n",
       "    </tr>\n",
       "    <tr>\n",
       "      <td>4</td>\n",
       "      <td>/Users/aaronspindler/Desktop/SelfDrivingCar/behaviour-cloning/data/IMG/center_2020_03_12_22_04_28_678.jpg</td>\n",
       "      <td>/Users/aaronspindler/Desktop/SelfDrivingCar/behaviour-cloning/data/IMG/left_2020_03_12_22_04_28_678.jpg</td>\n",
       "      <td>/Users/aaronspindler/Desktop/SelfDrivingCar/behaviour-cloning/data/IMG/right_2020_03_12_22_04_28_678.jpg</td>\n",
       "      <td>0.0</td>\n",
       "      <td>0.0</td>\n",
       "      <td>0.0</td>\n",
       "      <td>0.000078</td>\n",
       "    </tr>\n",
       "  </tbody>\n",
       "</table>\n",
       "</div>"
      ],
      "text/plain": [
       "                                                                                                      center  \\\n",
       "0  /Users/aaronspindler/Desktop/SelfDrivingCar/behaviour-cloning/data/IMG/center_2020_03_12_22_04_28_248.jpg   \n",
       "1  /Users/aaronspindler/Desktop/SelfDrivingCar/behaviour-cloning/data/IMG/center_2020_03_12_22_04_28_351.jpg   \n",
       "2  /Users/aaronspindler/Desktop/SelfDrivingCar/behaviour-cloning/data/IMG/center_2020_03_12_22_04_28_461.jpg   \n",
       "3  /Users/aaronspindler/Desktop/SelfDrivingCar/behaviour-cloning/data/IMG/center_2020_03_12_22_04_28_564.jpg   \n",
       "4  /Users/aaronspindler/Desktop/SelfDrivingCar/behaviour-cloning/data/IMG/center_2020_03_12_22_04_28_678.jpg   \n",
       "\n",
       "                                                                                                       left  \\\n",
       "0   /Users/aaronspindler/Desktop/SelfDrivingCar/behaviour-cloning/data/IMG/left_2020_03_12_22_04_28_248.jpg   \n",
       "1   /Users/aaronspindler/Desktop/SelfDrivingCar/behaviour-cloning/data/IMG/left_2020_03_12_22_04_28_351.jpg   \n",
       "2   /Users/aaronspindler/Desktop/SelfDrivingCar/behaviour-cloning/data/IMG/left_2020_03_12_22_04_28_461.jpg   \n",
       "3   /Users/aaronspindler/Desktop/SelfDrivingCar/behaviour-cloning/data/IMG/left_2020_03_12_22_04_28_564.jpg   \n",
       "4   /Users/aaronspindler/Desktop/SelfDrivingCar/behaviour-cloning/data/IMG/left_2020_03_12_22_04_28_678.jpg   \n",
       "\n",
       "                                                                                                       right  \\\n",
       "0   /Users/aaronspindler/Desktop/SelfDrivingCar/behaviour-cloning/data/IMG/right_2020_03_12_22_04_28_248.jpg   \n",
       "1   /Users/aaronspindler/Desktop/SelfDrivingCar/behaviour-cloning/data/IMG/right_2020_03_12_22_04_28_351.jpg   \n",
       "2   /Users/aaronspindler/Desktop/SelfDrivingCar/behaviour-cloning/data/IMG/right_2020_03_12_22_04_28_461.jpg   \n",
       "3   /Users/aaronspindler/Desktop/SelfDrivingCar/behaviour-cloning/data/IMG/right_2020_03_12_22_04_28_564.jpg   \n",
       "4   /Users/aaronspindler/Desktop/SelfDrivingCar/behaviour-cloning/data/IMG/right_2020_03_12_22_04_28_678.jpg   \n",
       "\n",
       "   steering  throttle  reverse     speed  \n",
       "0  0.0       0.0       0.0      0.000078  \n",
       "1  0.0       0.0       0.0      0.000080  \n",
       "2  0.0       0.0       0.0      0.000078  \n",
       "3  0.0       0.0       0.0      0.000078  \n",
       "4  0.0       0.0       0.0      0.000078  "
      ]
     },
     "execution_count": 6,
     "metadata": {},
     "output_type": "execute_result"
    }
   ],
   "source": [
    "datadir = 'data'\n",
    "columns = ['center', 'left', 'right', 'steering', 'throttle', 'reverse', 'speed']\n",
    "data = pd.read_csv((datadir + '/driving_log.csv'), names=columns)\n",
    "pd.set_option('display.max_colwidth', -1)\n",
    "data.head()"
   ]
  },
  {
   "cell_type": "code",
   "execution_count": 7,
   "metadata": {},
   "outputs": [
    {
     "data": {
      "text/html": [
       "<div>\n",
       "<style scoped>\n",
       "    .dataframe tbody tr th:only-of-type {\n",
       "        vertical-align: middle;\n",
       "    }\n",
       "\n",
       "    .dataframe tbody tr th {\n",
       "        vertical-align: top;\n",
       "    }\n",
       "\n",
       "    .dataframe thead th {\n",
       "        text-align: right;\n",
       "    }\n",
       "</style>\n",
       "<table border=\"1\" class=\"dataframe\">\n",
       "  <thead>\n",
       "    <tr style=\"text-align: right;\">\n",
       "      <th></th>\n",
       "      <th>center</th>\n",
       "      <th>left</th>\n",
       "      <th>right</th>\n",
       "      <th>steering</th>\n",
       "      <th>throttle</th>\n",
       "      <th>reverse</th>\n",
       "      <th>speed</th>\n",
       "    </tr>\n",
       "  </thead>\n",
       "  <tbody>\n",
       "    <tr>\n",
       "      <td>0</td>\n",
       "      <td>center_2020_03_12_22_04_28_248.jpg</td>\n",
       "      <td>left_2020_03_12_22_04_28_248.jpg</td>\n",
       "      <td>right_2020_03_12_22_04_28_248.jpg</td>\n",
       "      <td>0.0</td>\n",
       "      <td>0.0</td>\n",
       "      <td>0.0</td>\n",
       "      <td>0.000078</td>\n",
       "    </tr>\n",
       "    <tr>\n",
       "      <td>1</td>\n",
       "      <td>center_2020_03_12_22_04_28_351.jpg</td>\n",
       "      <td>left_2020_03_12_22_04_28_351.jpg</td>\n",
       "      <td>right_2020_03_12_22_04_28_351.jpg</td>\n",
       "      <td>0.0</td>\n",
       "      <td>0.0</td>\n",
       "      <td>0.0</td>\n",
       "      <td>0.000080</td>\n",
       "    </tr>\n",
       "    <tr>\n",
       "      <td>2</td>\n",
       "      <td>center_2020_03_12_22_04_28_461.jpg</td>\n",
       "      <td>left_2020_03_12_22_04_28_461.jpg</td>\n",
       "      <td>right_2020_03_12_22_04_28_461.jpg</td>\n",
       "      <td>0.0</td>\n",
       "      <td>0.0</td>\n",
       "      <td>0.0</td>\n",
       "      <td>0.000078</td>\n",
       "    </tr>\n",
       "    <tr>\n",
       "      <td>3</td>\n",
       "      <td>center_2020_03_12_22_04_28_564.jpg</td>\n",
       "      <td>left_2020_03_12_22_04_28_564.jpg</td>\n",
       "      <td>right_2020_03_12_22_04_28_564.jpg</td>\n",
       "      <td>0.0</td>\n",
       "      <td>0.0</td>\n",
       "      <td>0.0</td>\n",
       "      <td>0.000078</td>\n",
       "    </tr>\n",
       "    <tr>\n",
       "      <td>4</td>\n",
       "      <td>center_2020_03_12_22_04_28_678.jpg</td>\n",
       "      <td>left_2020_03_12_22_04_28_678.jpg</td>\n",
       "      <td>right_2020_03_12_22_04_28_678.jpg</td>\n",
       "      <td>0.0</td>\n",
       "      <td>0.0</td>\n",
       "      <td>0.0</td>\n",
       "      <td>0.000078</td>\n",
       "    </tr>\n",
       "  </tbody>\n",
       "</table>\n",
       "</div>"
      ],
      "text/plain": [
       "                               center                              left  \\\n",
       "0  center_2020_03_12_22_04_28_248.jpg  left_2020_03_12_22_04_28_248.jpg   \n",
       "1  center_2020_03_12_22_04_28_351.jpg  left_2020_03_12_22_04_28_351.jpg   \n",
       "2  center_2020_03_12_22_04_28_461.jpg  left_2020_03_12_22_04_28_461.jpg   \n",
       "3  center_2020_03_12_22_04_28_564.jpg  left_2020_03_12_22_04_28_564.jpg   \n",
       "4  center_2020_03_12_22_04_28_678.jpg  left_2020_03_12_22_04_28_678.jpg   \n",
       "\n",
       "                               right  steering  throttle  reverse     speed  \n",
       "0  right_2020_03_12_22_04_28_248.jpg  0.0       0.0       0.0      0.000078  \n",
       "1  right_2020_03_12_22_04_28_351.jpg  0.0       0.0       0.0      0.000080  \n",
       "2  right_2020_03_12_22_04_28_461.jpg  0.0       0.0       0.0      0.000078  \n",
       "3  right_2020_03_12_22_04_28_564.jpg  0.0       0.0       0.0      0.000078  \n",
       "4  right_2020_03_12_22_04_28_678.jpg  0.0       0.0       0.0      0.000078  "
      ]
     },
     "execution_count": 7,
     "metadata": {},
     "output_type": "execute_result"
    }
   ],
   "source": [
    "def path_leaf(path):\n",
    "    head, tail = ntpath.split(path)\n",
    "    return tail\n",
    "data['center'] = data['center'].apply(path_leaf)\n",
    "data['left'] = data['left'].apply(path_leaf)\n",
    "data['right'] = data['right'].apply(path_leaf)\n",
    "data.head()"
   ]
  },
  {
   "cell_type": "code",
   "execution_count": 11,
   "metadata": {},
   "outputs": [
    {
     "data": {
      "text/plain": [
       "<BarContainer object of 25 artists>"
      ]
     },
     "execution_count": 11,
     "metadata": {},
     "output_type": "execute_result"
    },
    {
     "data": {
      "image/png": "[encoded data removed]",
      "text/plain": [
       "<Figure size 432x288 with 1 Axes>"
      ]
     },
     "metadata": {
      "needs_background": "light"
     },
     "output_type": "display_data"
    }
   ],
   "source": [
    "num_bins = 25\n",
    "hist, bins = np.histogram(data['steering'], num_bins)\n",
    "center = (bins[:-1] + bins[1:]) * 0.5\n",
    "plt.bar(center, hist, width=0.05)"
   ]
  },
  {
   "cell_type": "code",
   "execution_count": null,
   "metadata": {},
   "outputs": [],
   "source": []
  }
 ],
 "metadata": {
  "kernelspec": {
   "display_name": "Python 3",
   "language": "python",
   "name": "python3"
  },
  "language_info": {
   "codemirror_mode": {
    "name": "ipython",
    "version": 3
   },
   "file_extension": ".py",
   "mimetype": "text/x-python",
   "name": "python",
   "nbconvert_exporter": "python",
   "pygments_lexer": "ipython3",
   "version": "3.7.4"
  }
 },
 "nbformat": 4,
 "nbformat_minor": 4
}
